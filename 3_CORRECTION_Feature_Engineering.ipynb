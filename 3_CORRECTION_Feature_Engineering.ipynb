{
 "cells": [
  {
   "cell_type": "markdown",
   "metadata": {},
   "source": [
    "# Introduction to Feature Engineering <font color='blue'> </font>"
   ]
  },
  {
   "cell_type": "markdown",
   "metadata": {},
   "source": [
    "# Google doc with code corrections is accessible at:\n",
    "### https://docs.google.com/document/d/19Um3u0V7dekptT0NBE-ArPf0MHe74xQA_BMueBD0Vpw/edit?usp=sharing"
   ]
  },
  {
   "cell_type": "markdown",
   "metadata": {},
   "source": [
    "# 0) Importing the right tools <font color='blue'> </font>"
   ]
  },
  {
   "cell_type": "markdown",
   "metadata": {},
   "source": [
    "### <font color='red'>0.1) Import the necessary packages: </font>\n",
    "\n",
    "- pandas (aliased as pd)\n",
    "- numpy (aliased as np)\n",
    "- seaborn (aliased as sns)\n",
    "- matplotlib.pyplot (aliased as plt)"
   ]
  },
  {
   "cell_type": "code",
   "execution_count": 4,
   "metadata": {
    "collapsed": false
   },
   "outputs": [
    {
     "name": "stdout",
     "output_type": "stream",
     "text": [
      "Populating the interactive namespace from numpy and matplotlib\n"
     ]
    },
    {
     "name": "stderr",
     "output_type": "stream",
     "text": [
      "/Users/nathanielbern/anaconda/lib/python2.7/site-packages/matplotlib/__init__.py:872: UserWarning: axes.color_cycle is deprecated and replaced with axes.prop_cycle; please use the latter.\n",
      "  warnings.warn(self.msg_depr % (key, alt_key))\n"
     ]
    }
   ],
   "source": [
    "from __future__ import division\n",
    "\n",
    "import pandas as pd\n",
    "import numpy as np\n",
    "import seaborn as sns\n",
    "import matplotlib.pyplot as plt\n",
    "%pylab inline "
   ]
  },
  {
   "cell_type": "markdown",
   "metadata": {},
   "source": [
    "### <font color='red'>0.2) Import the dataset from <i>'../data/data_after_collection_cleaning.csv'</i></font>"
   ]
  },
  {
   "cell_type": "code",
   "execution_count": 5,
   "metadata": {
    "collapsed": false
   },
   "outputs": [],
   "source": [
    "raw_data = pd.read_csv('../data/data_after_collection_cleaning.csv')\n",
    "data = raw_data.copy()"
   ]
  },
  {
   "cell_type": "markdown",
   "metadata": {},
   "source": [
    "### <font color='red'>0.3) Print samples of data so you are familiar with the data </font>"
   ]
  },
  {
   "cell_type": "code",
   "execution_count": 6,
   "metadata": {
    "collapsed": false
   },
   "outputs": [
    {
     "data": {
      "text/html": [
       "<div>\n",
       "<table border=\"1\" class=\"dataframe\">\n",
       "  <thead>\n",
       "    <tr style=\"text-align: right;\">\n",
       "      <th></th>\n",
       "      <th>tripduration</th>\n",
       "      <th>starttime</th>\n",
       "      <th>stoptime</th>\n",
       "      <th>start station id</th>\n",
       "      <th>start station name</th>\n",
       "      <th>start station latitude</th>\n",
       "      <th>start station longitude</th>\n",
       "      <th>end station id</th>\n",
       "      <th>end station name</th>\n",
       "      <th>end station latitude</th>\n",
       "      <th>end station longitude</th>\n",
       "      <th>bikeid</th>\n",
       "      <th>usertype</th>\n",
       "      <th>birth year</th>\n",
       "      <th>gender</th>\n",
       "      <th>total_docks_start</th>\n",
       "      <th>total_docks_end</th>\n",
       "      <th>Precipitationmm</th>\n",
       "      <th>Conditions</th>\n",
       "      <th>TemperatureC</th>\n",
       "    </tr>\n",
       "  </thead>\n",
       "  <tbody>\n",
       "    <tr>\n",
       "      <th>719350</th>\n",
       "      <td>193</td>\n",
       "      <td>2015-06-24 12:03:00</td>\n",
       "      <td>2015-06-24 12:06:00</td>\n",
       "      <td>536</td>\n",
       "      <td>1 Ave &amp; E 30 St</td>\n",
       "      <td>40.741444</td>\n",
       "      <td>-73.975361</td>\n",
       "      <td>476</td>\n",
       "      <td>E 31 St &amp; 3 Ave</td>\n",
       "      <td>40.743943</td>\n",
       "      <td>-73.979661</td>\n",
       "      <td>19229</td>\n",
       "      <td>Subscriber</td>\n",
       "      <td>1992</td>\n",
       "      <td>1</td>\n",
       "      <td>29</td>\n",
       "      <td>47</td>\n",
       "      <td>0</td>\n",
       "      <td>Clear</td>\n",
       "      <td>21.1</td>\n",
       "    </tr>\n",
       "    <tr>\n",
       "      <th>865293</th>\n",
       "      <td>384</td>\n",
       "      <td>2015-06-29 08:28:00</td>\n",
       "      <td>2015-06-29 08:35:00</td>\n",
       "      <td>494</td>\n",
       "      <td>W 26 St &amp; 8 Ave</td>\n",
       "      <td>40.747348</td>\n",
       "      <td>-73.997236</td>\n",
       "      <td>491</td>\n",
       "      <td>E 24 St &amp; Park Ave S</td>\n",
       "      <td>40.740964</td>\n",
       "      <td>-73.986022</td>\n",
       "      <td>18775</td>\n",
       "      <td>Subscriber</td>\n",
       "      <td>1970</td>\n",
       "      <td>1</td>\n",
       "      <td>35</td>\n",
       "      <td>53</td>\n",
       "      <td>0</td>\n",
       "      <td>Clear</td>\n",
       "      <td>18.3</td>\n",
       "    </tr>\n",
       "  </tbody>\n",
       "</table>\n",
       "</div>"
      ],
      "text/plain": [
       "        tripduration            starttime             stoptime  \\\n",
       "719350           193  2015-06-24 12:03:00  2015-06-24 12:06:00   \n",
       "865293           384  2015-06-29 08:28:00  2015-06-29 08:35:00   \n",
       "\n",
       "        start station id start station name  start station latitude  \\\n",
       "719350               536    1 Ave & E 30 St               40.741444   \n",
       "865293               494    W 26 St & 8 Ave               40.747348   \n",
       "\n",
       "        start station longitude  end station id      end station name  \\\n",
       "719350               -73.975361             476       E 31 St & 3 Ave   \n",
       "865293               -73.997236             491  E 24 St & Park Ave S   \n",
       "\n",
       "        end station latitude  end station longitude  bikeid    usertype  \\\n",
       "719350             40.743943             -73.979661   19229  Subscriber   \n",
       "865293             40.740964             -73.986022   18775  Subscriber   \n",
       "\n",
       "        birth year  gender  total_docks_start  total_docks_end  \\\n",
       "719350        1992       1                 29               47   \n",
       "865293        1970       1                 35               53   \n",
       "\n",
       "        Precipitationmm Conditions  TemperatureC  \n",
       "719350                0      Clear          21.1  \n",
       "865293                0      Clear          18.3  "
      ]
     },
     "execution_count": 6,
     "metadata": {},
     "output_type": "execute_result"
    }
   ],
   "source": [
    "data.sample(2)"
   ]
  },
  {
   "cell_type": "markdown",
   "metadata": {},
   "source": [
    "## 1) Week-end, Weekday <font color='blue'>  </font>"
   ]
  },
  {
   "cell_type": "markdown",
   "metadata": {},
   "source": [
    "### Weekday"
   ]
  },
  {
   "cell_type": "markdown",
   "metadata": {},
   "source": [
    "### <font color='red'>1.1) Import the calendar package and get help on it </font>"
   ]
  },
  {
   "cell_type": "code",
   "execution_count": 5,
   "metadata": {
    "collapsed": true
   },
   "outputs": [],
   "source": [
    "import calendar"
   ]
  },
  {
   "cell_type": "code",
   "execution_count": 6,
   "metadata": {
    "collapsed": false
   },
   "outputs": [
    {
     "name": "stdout",
     "output_type": "stream",
     "text": [
      "Help on module calendar:\n",
      "\n",
      "NAME\n",
      "    calendar - Calendar printing functions\n",
      "\n",
      "FILE\n",
      "    /Users/nathanielbern/anaconda/lib/python2.7/calendar.py\n",
      "\n",
      "MODULE DOCS\n",
      "    http://docs.python.org/library/calendar\n",
      "\n",
      "DESCRIPTION\n",
      "    Note when comparing these calendars to the ones printed by cal(1): By\n",
      "    default, these calendars have Monday as the first day of the week, and\n",
      "    Sunday as the last (the European convention). Use setfirstweekday() to\n",
      "    set the first day of the week (0=Monday, 6=Sunday).\n",
      "\n",
      "CLASSES\n",
      "    exceptions.ValueError(exceptions.StandardError)\n",
      "        IllegalMonthError\n",
      "        IllegalWeekdayError\n",
      "    \n",
      "    class IllegalMonthError(exceptions.ValueError)\n",
      "     |  # Exceptions raised for bad input\n",
      "     |  \n",
      "     |  Method resolution order:\n",
      "     |      IllegalMonthError\n",
      "     |      exceptions.ValueError\n",
      "     |      exceptions.StandardError\n",
      "     |      exceptions.Exception\n",
      "     |      exceptions.BaseException\n",
      "     |      __builtin__.object\n",
      "     |  \n",
      "     |  Methods defined here:\n",
      "     |  \n",
      "     |  __init__(self, month)\n",
      "     |  \n",
      "     |  __str__(self)\n",
      "     |  \n",
      "     |  ----------------------------------------------------------------------\n",
      "     |  Data descriptors defined here:\n",
      "     |  \n",
      "     |  __weakref__\n",
      "     |      list of weak references to the object (if defined)\n",
      "     |  \n",
      "     |  ----------------------------------------------------------------------\n",
      "     |  Data and other attributes inherited from exceptions.ValueError:\n",
      "     |  \n",
      "     |  __new__ = <built-in method __new__ of type object>\n",
      "     |      T.__new__(S, ...) -> a new object with type S, a subtype of T\n",
      "     |  \n",
      "     |  ----------------------------------------------------------------------\n",
      "     |  Methods inherited from exceptions.BaseException:\n",
      "     |  \n",
      "     |  __delattr__(...)\n",
      "     |      x.__delattr__('name') <==> del x.name\n",
      "     |  \n",
      "     |  __getattribute__(...)\n",
      "     |      x.__getattribute__('name') <==> x.name\n",
      "     |  \n",
      "     |  __getitem__(...)\n",
      "     |      x.__getitem__(y) <==> x[y]\n",
      "     |  \n",
      "     |  __getslice__(...)\n",
      "     |      x.__getslice__(i, j) <==> x[i:j]\n",
      "     |      \n",
      "     |      Use of negative indices is not supported.\n",
      "     |  \n",
      "     |  __reduce__(...)\n",
      "     |  \n",
      "     |  __repr__(...)\n",
      "     |      x.__repr__() <==> repr(x)\n",
      "     |  \n",
      "     |  __setattr__(...)\n",
      "     |      x.__setattr__('name', value) <==> x.name = value\n",
      "     |  \n",
      "     |  __setstate__(...)\n",
      "     |  \n",
      "     |  __unicode__(...)\n",
      "     |  \n",
      "     |  ----------------------------------------------------------------------\n",
      "     |  Data descriptors inherited from exceptions.BaseException:\n",
      "     |  \n",
      "     |  __dict__\n",
      "     |  \n",
      "     |  args\n",
      "     |  \n",
      "     |  message\n",
      "    \n",
      "    class IllegalWeekdayError(exceptions.ValueError)\n",
      "     |  Method resolution order:\n",
      "     |      IllegalWeekdayError\n",
      "     |      exceptions.ValueError\n",
      "     |      exceptions.StandardError\n",
      "     |      exceptions.Exception\n",
      "     |      exceptions.BaseException\n",
      "     |      __builtin__.object\n",
      "     |  \n",
      "     |  Methods defined here:\n",
      "     |  \n",
      "     |  __init__(self, weekday)\n",
      "     |  \n",
      "     |  __str__(self)\n",
      "     |  \n",
      "     |  ----------------------------------------------------------------------\n",
      "     |  Data descriptors defined here:\n",
      "     |  \n",
      "     |  __weakref__\n",
      "     |      list of weak references to the object (if defined)\n",
      "     |  \n",
      "     |  ----------------------------------------------------------------------\n",
      "     |  Data and other attributes inherited from exceptions.ValueError:\n",
      "     |  \n",
      "     |  __new__ = <built-in method __new__ of type object>\n",
      "     |      T.__new__(S, ...) -> a new object with type S, a subtype of T\n",
      "     |  \n",
      "     |  ----------------------------------------------------------------------\n",
      "     |  Methods inherited from exceptions.BaseException:\n",
      "     |  \n",
      "     |  __delattr__(...)\n",
      "     |      x.__delattr__('name') <==> del x.name\n",
      "     |  \n",
      "     |  __getattribute__(...)\n",
      "     |      x.__getattribute__('name') <==> x.name\n",
      "     |  \n",
      "     |  __getitem__(...)\n",
      "     |      x.__getitem__(y) <==> x[y]\n",
      "     |  \n",
      "     |  __getslice__(...)\n",
      "     |      x.__getslice__(i, j) <==> x[i:j]\n",
      "     |      \n",
      "     |      Use of negative indices is not supported.\n",
      "     |  \n",
      "     |  __reduce__(...)\n",
      "     |  \n",
      "     |  __repr__(...)\n",
      "     |      x.__repr__() <==> repr(x)\n",
      "     |  \n",
      "     |  __setattr__(...)\n",
      "     |      x.__setattr__('name', value) <==> x.name = value\n",
      "     |  \n",
      "     |  __setstate__(...)\n",
      "     |  \n",
      "     |  __unicode__(...)\n",
      "     |  \n",
      "     |  ----------------------------------------------------------------------\n",
      "     |  Data descriptors inherited from exceptions.BaseException:\n",
      "     |  \n",
      "     |  __dict__\n",
      "     |  \n",
      "     |  args\n",
      "     |  \n",
      "     |  message\n",
      "\n",
      "FUNCTIONS\n",
      "    calendar = formatyear(self, theyear, w=2, l=1, c=6, m=3) method of TextCalendar instance\n",
      "        Returns a year's calendar as a multi-line string.\n",
      "    \n",
      "    firstweekday = getfirstweekday(self) method of TextCalendar instance\n",
      "    \n",
      "    isleap(year)\n",
      "        Return True for leap years, False for non-leap years.\n",
      "    \n",
      "    leapdays(y1, y2)\n",
      "        Return number of leap years in range [y1, y2).\n",
      "        Assume y1 <= y2.\n",
      "    \n",
      "    month = formatmonth(self, theyear, themonth, w=0, l=0) method of TextCalendar instance\n",
      "        Return a month's calendar string (multi-line).\n",
      "    \n",
      "    monthcalendar = monthdayscalendar(self, year, month) method of TextCalendar instance\n",
      "        Return a matrix representing a month's calendar.\n",
      "        Each row represents a week; days outside this month are zero.\n",
      "    \n",
      "    monthrange(year, month)\n",
      "        Return weekday (0-6 ~ Mon-Sun) and number of days (28-31) for\n",
      "        year, month.\n",
      "    \n",
      "    prcal = pryear(self, theyear, w=0, l=0, c=6, m=3) method of TextCalendar instance\n",
      "        Print a year's calendar.\n",
      "    \n",
      "    prmonth(self, theyear, themonth, w=0, l=0) method of TextCalendar instance\n",
      "        Print a month's calendar.\n",
      "    \n",
      "    setfirstweekday(firstweekday)\n",
      "    \n",
      "    timegm(tuple)\n",
      "        Unrelated but handy function to calculate Unix timestamp from GMT.\n",
      "    \n",
      "    weekday(year, month, day)\n",
      "        Return weekday (0-6 ~ Mon-Sun) for year (1970-...), month (1-12),\n",
      "        day (1-31).\n",
      "\n",
      "DATA\n",
      "    __all__ = ['IllegalMonthError', 'IllegalWeekdayError', 'setfirstweekda...\n",
      "    day_abbr = <calendar._localized_day instance>\n",
      "    day_name = <calendar._localized_day instance>\n",
      "    month_abbr = <calendar._localized_month instance>\n",
      "    month_name = <calendar._localized_month instance>\n",
      "\n",
      "\n"
     ]
    }
   ],
   "source": [
    "help(calendar)"
   ]
  },
  {
   "cell_type": "markdown",
   "metadata": {},
   "source": [
    "### <font color='red'>1.2) Change starttime and stoptime columns of <i>data</i> to the right <i>datetime</i> format </font>"
   ]
  },
  {
   "cell_type": "code",
   "execution_count": 12,
   "metadata": {
    "collapsed": false
   },
   "outputs": [],
   "source": [
    "data['starttime'] = pd.to_datetime(data['starttime'], format=\"%Y-%m-%d %H:%M\")\n",
    "data['stoptime'] = pd.to_datetime(data['stoptime'], format=\"%Y-%m-%d %H:%M\")"
   ]
  },
  {
   "cell_type": "code",
   "execution_count": 13,
   "metadata": {
    "collapsed": false
   },
   "outputs": [
    {
     "data": {
      "text/html": [
       "<div>\n",
       "<table border=\"1\" class=\"dataframe\">\n",
       "  <thead>\n",
       "    <tr style=\"text-align: right;\">\n",
       "      <th></th>\n",
       "      <th>tripduration</th>\n",
       "      <th>starttime</th>\n",
       "      <th>stoptime</th>\n",
       "      <th>start station id</th>\n",
       "      <th>start station name</th>\n",
       "      <th>start station latitude</th>\n",
       "      <th>start station longitude</th>\n",
       "      <th>end station id</th>\n",
       "      <th>end station name</th>\n",
       "      <th>end station latitude</th>\n",
       "      <th>end station longitude</th>\n",
       "      <th>bikeid</th>\n",
       "      <th>usertype</th>\n",
       "      <th>birth year</th>\n",
       "      <th>gender</th>\n",
       "      <th>total_docks_start</th>\n",
       "      <th>total_docks_end</th>\n",
       "      <th>Precipitationmm</th>\n",
       "      <th>Conditions</th>\n",
       "      <th>TemperatureC</th>\n",
       "    </tr>\n",
       "  </thead>\n",
       "  <tbody>\n",
       "    <tr>\n",
       "      <th>599534</th>\n",
       "      <td>226</td>\n",
       "      <td>2015-06-20 15:22:00</td>\n",
       "      <td>2015-06-20 15:26:00</td>\n",
       "      <td>492</td>\n",
       "      <td>W 33 St &amp; 7 Ave</td>\n",
       "      <td>40.750200</td>\n",
       "      <td>-73.990931</td>\n",
       "      <td>494</td>\n",
       "      <td>W 26 St &amp; 8 Ave</td>\n",
       "      <td>40.747348</td>\n",
       "      <td>-73.997236</td>\n",
       "      <td>16339</td>\n",
       "      <td>Subscriber</td>\n",
       "      <td>1976</td>\n",
       "      <td>1</td>\n",
       "      <td>49</td>\n",
       "      <td>35</td>\n",
       "      <td>0</td>\n",
       "      <td>Overcast</td>\n",
       "      <td>19.4</td>\n",
       "    </tr>\n",
       "    <tr>\n",
       "      <th>14709</th>\n",
       "      <td>724</td>\n",
       "      <td>2015-06-01 21:12:00</td>\n",
       "      <td>2015-06-01 21:25:00</td>\n",
       "      <td>236</td>\n",
       "      <td>St Marks Pl &amp; 2 Ave</td>\n",
       "      <td>40.728419</td>\n",
       "      <td>-73.987140</td>\n",
       "      <td>377</td>\n",
       "      <td>6 Ave &amp; Canal St</td>\n",
       "      <td>40.722438</td>\n",
       "      <td>-74.005664</td>\n",
       "      <td>20527</td>\n",
       "      <td>Subscriber</td>\n",
       "      <td>1991</td>\n",
       "      <td>2</td>\n",
       "      <td>39</td>\n",
       "      <td>47</td>\n",
       "      <td>0</td>\n",
       "      <td>Overcast</td>\n",
       "      <td>13.3</td>\n",
       "    </tr>\n",
       "  </tbody>\n",
       "</table>\n",
       "</div>"
      ],
      "text/plain": [
       "        tripduration           starttime            stoptime  \\\n",
       "599534           226 2015-06-20 15:22:00 2015-06-20 15:26:00   \n",
       "14709            724 2015-06-01 21:12:00 2015-06-01 21:25:00   \n",
       "\n",
       "        start station id   start station name  start station latitude  \\\n",
       "599534               492      W 33 St & 7 Ave               40.750200   \n",
       "14709                236  St Marks Pl & 2 Ave               40.728419   \n",
       "\n",
       "        start station longitude  end station id  end station name  \\\n",
       "599534               -73.990931             494   W 26 St & 8 Ave   \n",
       "14709                -73.987140             377  6 Ave & Canal St   \n",
       "\n",
       "        end station latitude  end station longitude  bikeid    usertype  \\\n",
       "599534             40.747348             -73.997236   16339  Subscriber   \n",
       "14709              40.722438             -74.005664   20527  Subscriber   \n",
       "\n",
       "        birth year  gender  total_docks_start  total_docks_end  \\\n",
       "599534        1976       1                 49               35   \n",
       "14709         1991       2                 39               47   \n",
       "\n",
       "        Precipitationmm Conditions  TemperatureC  \n",
       "599534                0   Overcast          19.4  \n",
       "14709                 0   Overcast          13.3  "
      ]
     },
     "execution_count": 13,
     "metadata": {},
     "output_type": "execute_result"
    }
   ],
   "source": [
    "data.sample(2)"
   ]
  },
  {
   "cell_type": "markdown",
   "metadata": {},
   "source": [
    "### <font color='red'>1.3) Run the following block with different day indexes, so you can see what <i>calendar.day_name[index_day]</i> returns </font>"
   ]
  },
  {
   "cell_type": "code",
   "execution_count": 22,
   "metadata": {
    "collapsed": false
   },
   "outputs": [
    {
     "name": "stdout",
     "output_type": "stream",
     "text": [
      "Monday\n"
     ]
    }
   ],
   "source": [
    "index_day = 0\n",
    "print calendar.day_name[index_day]"
   ]
  },
  {
   "cell_type": "markdown",
   "metadata": {},
   "source": [
    "### <font color='red'>1.4) Run the following block so you get the day index of a given observation, as well as its week-day using <i>calendar</i></font>"
   ]
  },
  {
   "cell_type": "code",
   "execution_count": 23,
   "metadata": {
    "collapsed": false
   },
   "outputs": [
    {
     "name": "stdout",
     "output_type": "stream",
     "text": [
      "0\n",
      "Monday\n"
     ]
    }
   ],
   "source": [
    "example_observation = data.iloc[0] \n",
    "print example_observation.starttime.weekday()\n",
    "print calendar.day_name[example_observation.starttime.weekday()]"
   ]
  },
  {
   "cell_type": "markdown",
   "metadata": {},
   "source": [
    "### <font color='red'>1.5) Create a column in the dataframe, containing the day of the week of a given trip. You can use the following functions:</font>\n",
    "- pd.column_name.apply()\n",
    "- calendar.day_name[day_number_here] (notice the brackets)\n",
    "- datetime.weekday()\n",
    "\n",
    "<font color='green'> <b>Any function can be passed to pd.column_name.apply(name_of_your_function), for instance you could use the <i>lambda functions</i></b>:\n",
    "- new_column = pd.column_name.apply(lambda x: x.attribute_of_x) will create a new column, based on the attributes of elements of the old column.<font color='green'>"
   ]
  },
  {
   "cell_type": "code",
   "execution_count": 14,
   "metadata": {
    "collapsed": true
   },
   "outputs": [],
   "source": [
    "import calendar"
   ]
  },
  {
   "cell_type": "code",
   "execution_count": 18,
   "metadata": {
    "collapsed": false
   },
   "outputs": [
    {
     "data": {
      "text/plain": [
       "0"
      ]
     },
     "execution_count": 18,
     "metadata": {},
     "output_type": "execute_result"
    }
   ],
   "source": [
    "calendar.day_name[0]\n",
    "data.loc[0].starttime.weekday()"
   ]
  },
  {
   "cell_type": "code",
   "execution_count": 9,
   "metadata": {
    "collapsed": false
   },
   "outputs": [],
   "source": [
    "data['start_day'] = data.starttime.apply(lambda x: calendar.day_name[x.weekday()])"
   ]
  },
  {
   "cell_type": "markdown",
   "metadata": {},
   "source": [
    "### <font color='red'>1.6) Print samples of data to make sure the column has been created successfully </font>"
   ]
  },
  {
   "cell_type": "code",
   "execution_count": 10,
   "metadata": {
    "collapsed": false
   },
   "outputs": [
    {
     "data": {
      "text/html": [
       "<div>\n",
       "<table border=\"1\" class=\"dataframe\">\n",
       "  <thead>\n",
       "    <tr style=\"text-align: right;\">\n",
       "      <th></th>\n",
       "      <th>tripduration</th>\n",
       "      <th>starttime</th>\n",
       "      <th>stoptime</th>\n",
       "      <th>start station id</th>\n",
       "      <th>start station name</th>\n",
       "      <th>start station latitude</th>\n",
       "      <th>start station longitude</th>\n",
       "      <th>end station id</th>\n",
       "      <th>end station name</th>\n",
       "      <th>end station latitude</th>\n",
       "      <th>...</th>\n",
       "      <th>bikeid</th>\n",
       "      <th>usertype</th>\n",
       "      <th>birth year</th>\n",
       "      <th>gender</th>\n",
       "      <th>total_docks_start</th>\n",
       "      <th>total_docks_end</th>\n",
       "      <th>Precipitationmm</th>\n",
       "      <th>Conditions</th>\n",
       "      <th>TemperatureC</th>\n",
       "      <th>start_day</th>\n",
       "    </tr>\n",
       "  </thead>\n",
       "  <tbody>\n",
       "    <tr>\n",
       "      <th>627014</th>\n",
       "      <td>576</td>\n",
       "      <td>2015-06-21 17:21:00</td>\n",
       "      <td>2015-06-21 17:30:00</td>\n",
       "      <td>459</td>\n",
       "      <td>W 20 St &amp; 11 Ave</td>\n",
       "      <td>40.746745</td>\n",
       "      <td>-74.007756</td>\n",
       "      <td>435</td>\n",
       "      <td>W 21 St &amp; 6 Ave</td>\n",
       "      <td>40.741740</td>\n",
       "      <td>...</td>\n",
       "      <td>16015</td>\n",
       "      <td>Subscriber</td>\n",
       "      <td>1991</td>\n",
       "      <td>1</td>\n",
       "      <td>49</td>\n",
       "      <td>47</td>\n",
       "      <td>0.02</td>\n",
       "      <td>Mostly Cloudy</td>\n",
       "      <td>28.3</td>\n",
       "      <td>Sunday</td>\n",
       "    </tr>\n",
       "    <tr>\n",
       "      <th>722431</th>\n",
       "      <td>315</td>\n",
       "      <td>2015-06-24 13:51:00</td>\n",
       "      <td>2015-06-24 13:56:00</td>\n",
       "      <td>522</td>\n",
       "      <td>E 51 St &amp; Lexington Ave</td>\n",
       "      <td>40.757148</td>\n",
       "      <td>-73.972078</td>\n",
       "      <td>519</td>\n",
       "      <td>Pershing Square North</td>\n",
       "      <td>40.751873</td>\n",
       "      <td>...</td>\n",
       "      <td>19021</td>\n",
       "      <td>Subscriber</td>\n",
       "      <td>1957</td>\n",
       "      <td>1</td>\n",
       "      <td>51</td>\n",
       "      <td>61</td>\n",
       "      <td>0.00</td>\n",
       "      <td>Clear</td>\n",
       "      <td>22.8</td>\n",
       "      <td>Wednesday</td>\n",
       "    </tr>\n",
       "  </tbody>\n",
       "</table>\n",
       "<p>2 rows × 21 columns</p>\n",
       "</div>"
      ],
      "text/plain": [
       "        tripduration           starttime            stoptime  \\\n",
       "627014           576 2015-06-21 17:21:00 2015-06-21 17:30:00   \n",
       "722431           315 2015-06-24 13:51:00 2015-06-24 13:56:00   \n",
       "\n",
       "        start station id       start station name  start station latitude  \\\n",
       "627014               459         W 20 St & 11 Ave               40.746745   \n",
       "722431               522  E 51 St & Lexington Ave               40.757148   \n",
       "\n",
       "        start station longitude  end station id       end station name  \\\n",
       "627014               -74.007756             435        W 21 St & 6 Ave   \n",
       "722431               -73.972078             519  Pershing Square North   \n",
       "\n",
       "        end station latitude    ...      bikeid    usertype birth year  \\\n",
       "627014             40.741740    ...       16015  Subscriber       1991   \n",
       "722431             40.751873    ...       19021  Subscriber       1957   \n",
       "\n",
       "        gender  total_docks_start  total_docks_end  Precipitationmm  \\\n",
       "627014       1                 49               47             0.02   \n",
       "722431       1                 51               61             0.00   \n",
       "\n",
       "           Conditions TemperatureC  start_day  \n",
       "627014  Mostly Cloudy         28.3     Sunday  \n",
       "722431          Clear         22.8  Wednesday  \n",
       "\n",
       "[2 rows x 21 columns]"
      ]
     },
     "execution_count": 10,
     "metadata": {},
     "output_type": "execute_result"
    }
   ],
   "source": [
    "data.sample(2)"
   ]
  },
  {
   "cell_type": "markdown",
   "metadata": {},
   "source": [
    "### <font color='red'>1.7) Use the <i>seaborn</i> package, and more specifically <i>sns.countplot</i>, to plot the number of trips per week day</font>"
   ]
  },
  {
   "cell_type": "code",
   "execution_count": 11,
   "metadata": {
    "collapsed": false
   },
   "outputs": [
    {
     "name": "stderr",
     "output_type": "stream",
     "text": [
      "/Users/nathanielbern/anaconda/lib/python2.7/site-packages/matplotlib/__init__.py:892: UserWarning: axes.color_cycle is deprecated and replaced with axes.prop_cycle; please use the latter.\n",
      "  warnings.warn(self.msg_depr % (key, alt_key))\n"
     ]
    },
    {
     "data": {
      "text/plain": [
       "<matplotlib.text.Text at 0x10e11ce50>"
      ]
     },
     "execution_count": 11,
     "metadata": {},
     "output_type": "execute_result"
    },
    {
     "data": {
      "image/png": "[encoded data removed]",
      "text/plain": [
       "<matplotlib.figure.Figure at 0x11925fb50>"
      ]
     },
     "metadata": {},
     "output_type": "display_data"
    }
   ],
   "source": [
    "plt.figure(figsize=(10,5))\n",
    "sns.countplot(data.start_day)\n",
    "plt.title('Number of trips per day', fontsize=17)"
   ]
  },
  {
   "cell_type": "markdown",
   "metadata": {},
   "source": [
    "### <font color='red'>1.8) Define a new binary column, with True if day is on the week-end, False otherwise. You can use the <i>pandas.column_name.apply()</i> function.</font>"
   ]
  },
  {
   "cell_type": "code",
   "execution_count": 12,
   "metadata": {
    "collapsed": true
   },
   "outputs": [],
   "source": [
    "data['is_weekend'] = data['start_day'].apply(lambda x: x in {'Saturday', 'Sunday'})"
   ]
  },
  {
   "cell_type": "markdown",
   "metadata": {},
   "source": [
    "### <font color='red'>1.9) Plot samples of data to check success of operation</font>"
   ]
  },
  {
   "cell_type": "code",
   "execution_count": 13,
   "metadata": {
    "collapsed": false
   },
   "outputs": [
    {
     "data": {
      "text/html": [
       "<div>\n",
       "<table border=\"1\" class=\"dataframe\">\n",
       "  <thead>\n",
       "    <tr style=\"text-align: right;\">\n",
       "      <th></th>\n",
       "      <th>tripduration</th>\n",
       "      <th>starttime</th>\n",
       "      <th>stoptime</th>\n",
       "      <th>start station id</th>\n",
       "      <th>start station name</th>\n",
       "      <th>start station latitude</th>\n",
       "      <th>start station longitude</th>\n",
       "      <th>end station id</th>\n",
       "      <th>end station name</th>\n",
       "      <th>end station latitude</th>\n",
       "      <th>...</th>\n",
       "      <th>usertype</th>\n",
       "      <th>birth year</th>\n",
       "      <th>gender</th>\n",
       "      <th>total_docks_start</th>\n",
       "      <th>total_docks_end</th>\n",
       "      <th>Precipitationmm</th>\n",
       "      <th>Conditions</th>\n",
       "      <th>TemperatureC</th>\n",
       "      <th>start_day</th>\n",
       "      <th>is_weekend</th>\n",
       "    </tr>\n",
       "  </thead>\n",
       "  <tbody>\n",
       "    <tr>\n",
       "      <th>37936</th>\n",
       "      <td>379</td>\n",
       "      <td>2015-06-03 11:29:00</td>\n",
       "      <td>2015-06-03 11:36:00</td>\n",
       "      <td>533</td>\n",
       "      <td>Broadway &amp; W 39 St</td>\n",
       "      <td>40.752996</td>\n",
       "      <td>-73.987216</td>\n",
       "      <td>526</td>\n",
       "      <td>E 33 St &amp; 5 Ave</td>\n",
       "      <td>40.747659</td>\n",
       "      <td>...</td>\n",
       "      <td>Subscriber</td>\n",
       "      <td>1989</td>\n",
       "      <td>2</td>\n",
       "      <td>50</td>\n",
       "      <td>39</td>\n",
       "      <td>0.02</td>\n",
       "      <td>Overcast</td>\n",
       "      <td>11.7</td>\n",
       "      <td>Wednesday</td>\n",
       "      <td>False</td>\n",
       "    </tr>\n",
       "    <tr>\n",
       "      <th>495277</th>\n",
       "      <td>1307</td>\n",
       "      <td>2015-06-17 15:03:00</td>\n",
       "      <td>2015-06-17 15:25:00</td>\n",
       "      <td>471</td>\n",
       "      <td>Grand St &amp; Havemeyer St</td>\n",
       "      <td>40.712868</td>\n",
       "      <td>-73.956981</td>\n",
       "      <td>261</td>\n",
       "      <td>Johnson St &amp; Gold St</td>\n",
       "      <td>40.694749</td>\n",
       "      <td>...</td>\n",
       "      <td>Subscriber</td>\n",
       "      <td>1988</td>\n",
       "      <td>1</td>\n",
       "      <td>31</td>\n",
       "      <td>27</td>\n",
       "      <td>0.25</td>\n",
       "      <td>Clear</td>\n",
       "      <td>24.4</td>\n",
       "      <td>Wednesday</td>\n",
       "      <td>False</td>\n",
       "    </tr>\n",
       "  </tbody>\n",
       "</table>\n",
       "<p>2 rows × 22 columns</p>\n",
       "</div>"
      ],
      "text/plain": [
       "        tripduration           starttime            stoptime  \\\n",
       "37936            379 2015-06-03 11:29:00 2015-06-03 11:36:00   \n",
       "495277          1307 2015-06-17 15:03:00 2015-06-17 15:25:00   \n",
       "\n",
       "        start station id       start station name  start station latitude  \\\n",
       "37936                533       Broadway & W 39 St               40.752996   \n",
       "495277               471  Grand St & Havemeyer St               40.712868   \n",
       "\n",
       "        start station longitude  end station id      end station name  \\\n",
       "37936                -73.987216             526       E 33 St & 5 Ave   \n",
       "495277               -73.956981             261  Johnson St & Gold St   \n",
       "\n",
       "        end station latitude     ...        usertype  birth year gender  \\\n",
       "37936              40.747659     ...      Subscriber        1989      2   \n",
       "495277             40.694749     ...      Subscriber        1988      1   \n",
       "\n",
       "        total_docks_start  total_docks_end  Precipitationmm  Conditions  \\\n",
       "37936                  50               39             0.02    Overcast   \n",
       "495277                 31               27             0.25       Clear   \n",
       "\n",
       "        TemperatureC  start_day  is_weekend  \n",
       "37936           11.7  Wednesday       False  \n",
       "495277          24.4  Wednesday       False  \n",
       "\n",
       "[2 rows x 22 columns]"
      ]
     },
     "execution_count": 13,
     "metadata": {},
     "output_type": "execute_result"
    }
   ],
   "source": [
    "data.sample(2)"
   ]
  },
  {
   "cell_type": "markdown",
   "metadata": {},
   "source": [
    "## 2) Morning/afternoon/evening/night <font color='blue'>  </font>"
   ]
  },
  {
   "cell_type": "markdown",
   "metadata": {},
   "source": [
    "### <font color='red'>2.1) Define a function that returns a string depending on its parameter x. If:</font>\n",
    "- x.hour is strictly under 6 or strictly over 22, return 'night'\n",
    "- x.hour is strictly over 18 and under 22, return 'evening'\n",
    "- x.hour is strictly over 12 and under 18, return 'afternoon'\n",
    "- otherwise return 'morning'"
   ]
  },
  {
   "cell_type": "code",
   "execution_count": 14,
   "metadata": {
    "collapsed": true
   },
   "outputs": [],
   "source": [
    "def time_of_day(x):\n",
    "    if x.hour < 6 or x.hour > 22:\n",
    "        return 'night'\n",
    "    elif 18 < x.hour <= 22:\n",
    "        return 'evening'\n",
    "    elif 12 < x.hour <= 18:\n",
    "        return 'afternoon'\n",
    "    else:\n",
    "        return 'morning'"
   ]
  },
  {
   "cell_type": "markdown",
   "metadata": {},
   "source": [
    "### <font color='red'>2.2) Apply the function to the <i>starttime</i> column of <i>data</i> to create a new feature , using <i>pandas.apply()</i> function</font>"
   ]
  },
  {
   "cell_type": "code",
   "execution_count": 15,
   "metadata": {
    "collapsed": true
   },
   "outputs": [],
   "source": [
    "data['start_moment'] = data['starttime'].apply(time_of_day)"
   ]
  },
  {
   "cell_type": "markdown",
   "metadata": {},
   "source": [
    "### <font color='red'>2.3) Use <i>seaborn.countplot()</i> to plot the number of trips per moment of the day, with axes labels, and a title</font>"
   ]
  },
  {
   "cell_type": "code",
   "execution_count": 16,
   "metadata": {
    "collapsed": false
   },
   "outputs": [
    {
     "data": {
      "text/plain": [
       "<matplotlib.text.Text at 0x11f8680d0>"
      ]
     },
     "execution_count": 16,
     "metadata": {},
     "output_type": "execute_result"
    },
    {
     "data": {
      "image/png": "[encoded data removed]",
      "text/plain": [
       "<matplotlib.figure.Figure at 0x106108050>"
      ]
     },
     "metadata": {},
     "output_type": "display_data"
    }
   ],
   "source": [
    "plt.figure(figsize=(10,5))\n",
    "sns.countplot(data.start_moment)\n",
    "plt.xlabel('Moment of the day')\n",
    "plt.ylabel('Number of trips')\n",
    "plt.title('Number of bike trips during the day', fontsize=17)"
   ]
  },
  {
   "cell_type": "markdown",
   "metadata": {},
   "source": [
    "### <font color='red'>2.4) Use <i>seaborn.countplot()</i> to plot the number of trips per weekday and per time of day</font>"
   ]
  },
  {
   "cell_type": "code",
   "execution_count": 17,
   "metadata": {
    "collapsed": false
   },
   "outputs": [
    {
     "data": {
      "text/plain": [
       "<matplotlib.text.Text at 0x10e27c990>"
      ]
     },
     "execution_count": 17,
     "metadata": {},
     "output_type": "execute_result"
    },
    {
     "data": {
      "image/png": "[encoded data removed]",
      "text/plain": [
       "<matplotlib.figure.Figure at 0x106169d50>"
      ]
     },
     "metadata": {},
     "output_type": "display_data"
    }
   ],
   "source": [
    "plt.figure(figsize=(15,10))\n",
    "sns.countplot(x='start_day', hue='start_moment', data=data, palette=\"Set3\")\n",
    "plt.xlabel('Day')\n",
    "plt.ylabel('Number of trips')\n",
    "plt.title('Number of bike trips per day and per time of day', fontsize=17)"
   ]
  },
  {
   "cell_type": "markdown",
   "metadata": {},
   "source": [
    "## 3) Is rainy <font color='blue'>  </font>"
   ]
  },
  {
   "cell_type": "markdown",
   "metadata": {},
   "source": [
    "### <font color='red'>3.1) Define a new binary column, with 1 if day is rainy, 0 otherwise. You can use the <i>pandas.column_name.apply()</i> function.</font>"
   ]
  },
  {
   "cell_type": "code",
   "execution_count": 18,
   "metadata": {
    "collapsed": false
   },
   "outputs": [],
   "source": [
    "data['is_rainy'] = data.Conditions.apply(lambda condition: 'Rain' in condition)"
   ]
  },
  {
   "cell_type": "markdown",
   "metadata": {},
   "source": [
    "### <font color='red'>3.2) Print <i>samples</i> of data to check if the operation was successful</font>"
   ]
  },
  {
   "cell_type": "code",
   "execution_count": 32,
   "metadata": {
    "collapsed": false
   },
   "outputs": [
    {
     "data": {
      "text/html": [
       "<div>\n",
       "<table border=\"1\" class=\"dataframe\">\n",
       "  <thead>\n",
       "    <tr style=\"text-align: right;\">\n",
       "      <th></th>\n",
       "      <th>tripduration</th>\n",
       "      <th>starttime</th>\n",
       "      <th>stoptime</th>\n",
       "      <th>start station id</th>\n",
       "      <th>start station name</th>\n",
       "      <th>start station latitude</th>\n",
       "      <th>start station longitude</th>\n",
       "      <th>end station id</th>\n",
       "      <th>end station name</th>\n",
       "      <th>end station latitude</th>\n",
       "      <th>...</th>\n",
       "      <th>gender</th>\n",
       "      <th>total_docks_start</th>\n",
       "      <th>total_docks_end</th>\n",
       "      <th>Precipitationmm</th>\n",
       "      <th>Conditions</th>\n",
       "      <th>TemperatureC</th>\n",
       "      <th>start_day</th>\n",
       "      <th>is_weekend</th>\n",
       "      <th>start_moment</th>\n",
       "      <th>is_rainy</th>\n",
       "    </tr>\n",
       "  </thead>\n",
       "  <tbody>\n",
       "    <tr>\n",
       "      <th>421506</th>\n",
       "      <td>387</td>\n",
       "      <td>2015-06-15 07:56:00</td>\n",
       "      <td>2015-06-15 08:03:00</td>\n",
       "      <td>326</td>\n",
       "      <td>E 11 St &amp; 1 Ave</td>\n",
       "      <td>40.729538</td>\n",
       "      <td>-73.984267</td>\n",
       "      <td>325</td>\n",
       "      <td>E 19 St &amp; 3 Ave</td>\n",
       "      <td>40.736245</td>\n",
       "      <td>...</td>\n",
       "      <td>2</td>\n",
       "      <td>27</td>\n",
       "      <td>35</td>\n",
       "      <td>0.03</td>\n",
       "      <td>Overcast</td>\n",
       "      <td>19.85</td>\n",
       "      <td>Monday</td>\n",
       "      <td>False</td>\n",
       "      <td>morning</td>\n",
       "      <td>False</td>\n",
       "    </tr>\n",
       "    <tr>\n",
       "      <th>284424</th>\n",
       "      <td>695</td>\n",
       "      <td>2015-06-10 19:51:00</td>\n",
       "      <td>2015-06-10 20:03:00</td>\n",
       "      <td>461</td>\n",
       "      <td>E 20 St &amp; 2 Ave</td>\n",
       "      <td>40.735877</td>\n",
       "      <td>-73.982050</td>\n",
       "      <td>250</td>\n",
       "      <td>Lafayette St &amp; Jersey St</td>\n",
       "      <td>40.724561</td>\n",
       "      <td>...</td>\n",
       "      <td>2</td>\n",
       "      <td>39</td>\n",
       "      <td>40</td>\n",
       "      <td>0.00</td>\n",
       "      <td>Partly Cloudy</td>\n",
       "      <td>25.00</td>\n",
       "      <td>Wednesday</td>\n",
       "      <td>False</td>\n",
       "      <td>evening</td>\n",
       "      <td>False</td>\n",
       "    </tr>\n",
       "  </tbody>\n",
       "</table>\n",
       "<p>2 rows × 24 columns</p>\n",
       "</div>"
      ],
      "text/plain": [
       "        tripduration           starttime            stoptime  \\\n",
       "421506           387 2015-06-15 07:56:00 2015-06-15 08:03:00   \n",
       "284424           695 2015-06-10 19:51:00 2015-06-10 20:03:00   \n",
       "\n",
       "        start station id start station name  start station latitude  \\\n",
       "421506               326    E 11 St & 1 Ave               40.729538   \n",
       "284424               461    E 20 St & 2 Ave               40.735877   \n",
       "\n",
       "        start station longitude  end station id          end station name  \\\n",
       "421506               -73.984267             325           E 19 St & 3 Ave   \n",
       "284424               -73.982050             250  Lafayette St & Jersey St   \n",
       "\n",
       "        end station latitude    ...     gender  total_docks_start  \\\n",
       "421506             40.736245    ...          2                 27   \n",
       "284424             40.724561    ...          2                 39   \n",
       "\n",
       "       total_docks_end  Precipitationmm     Conditions  TemperatureC  \\\n",
       "421506              35             0.03       Overcast         19.85   \n",
       "284424              40             0.00  Partly Cloudy         25.00   \n",
       "\n",
       "        start_day  is_weekend start_moment  is_rainy  \n",
       "421506     Monday       False      morning     False  \n",
       "284424  Wednesday       False      evening     False  \n",
       "\n",
       "[2 rows x 24 columns]"
      ]
     },
     "execution_count": 32,
     "metadata": {},
     "output_type": "execute_result"
    }
   ],
   "source": [
    "data.sample(2)"
   ]
  },
  {
   "cell_type": "markdown",
   "metadata": {},
   "source": [
    "## 4) Is circle trip <font color='blue'> </font>"
   ]
  },
  {
   "cell_type": "markdown",
   "metadata": {},
   "source": [
    "### <font color='red'>4.1) Define a new binary column, with 1 if trip was loopy, 0 otherwise. You can use a boolean comparison of two columns of the dataframe.</font>"
   ]
  },
  {
   "cell_type": "code",
   "execution_count": 33,
   "metadata": {
    "collapsed": false
   },
   "outputs": [],
   "source": [
    "data['is_circle_trip'] = data['start station id'] == data['end station id']"
   ]
  },
  {
   "cell_type": "markdown",
   "metadata": {},
   "source": [
    "### <font color='red'>4.2) Print the proportion of circle trips in the dataset.</font>"
   ]
  },
  {
   "cell_type": "code",
   "execution_count": 34,
   "metadata": {
    "collapsed": false
   },
   "outputs": [
    {
     "name": "stdout",
     "output_type": "stream",
     "text": [
      "Proportion of circle trips: 2.2%\n"
     ]
    }
   ],
   "source": [
    "circle_trips_fraction = data['is_circle_trip'].sum()/len(data)  # see if there is a method to count only the True values (list.count equivalent)\n",
    "print 'Proportion of circle trips: {:.1%}'.format(circle_trips_fraction)"
   ]
  },
  {
   "cell_type": "markdown",
   "metadata": {},
   "source": [
    "## 5) Understanding trip evolution in June <font color='blue'>  </font>"
   ]
  },
  {
   "cell_type": "markdown",
   "metadata": {},
   "source": [
    "### <font color='red'>5.1) Add a new column with the trip day number. Since all trips in the dataset occured in June, we will name this column \"june_day\". You can use the <i>datetime.day</i> attribute of the starttime</font>"
   ]
  },
  {
   "cell_type": "code",
   "execution_count": 35,
   "metadata": {
    "collapsed": false
   },
   "outputs": [],
   "source": [
    "data['june_day'] = data.starttime.apply(lambda x: x.day)"
   ]
  },
  {
   "cell_type": "markdown",
   "metadata": {},
   "source": [
    "### <font color='red'>5.2) Group by the columns with respect to day in June, using <i>data.groupby()</i></font>"
   ]
  },
  {
   "cell_type": "code",
   "execution_count": 36,
   "metadata": {
    "collapsed": true
   },
   "outputs": [],
   "source": [
    "grouped_by_data = data.groupby('june_day')"
   ]
  },
  {
   "cell_type": "code",
   "execution_count": 37,
   "metadata": {
    "collapsed": false
   },
   "outputs": [
    {
     "data": {
      "text/plain": [
       "<pandas.core.groupby.DataFrameGroupBy object at 0x10ea89690>"
      ]
     },
     "execution_count": 37,
     "metadata": {},
     "output_type": "execute_result"
    }
   ],
   "source": [
    "grouped_by_data"
   ]
  },
  {
   "cell_type": "markdown",
   "metadata": {},
   "source": [
    "### <font color='red'>5.3) Aggregate the grouped by data with respect to mean temperature, and number of trips, using the <i>.count()</i> and <i>.mean()</i> methods of <i>data.groupby()</i></font>"
   ]
  },
  {
   "cell_type": "code",
   "execution_count": 38,
   "metadata": {
    "collapsed": true
   },
   "outputs": [],
   "source": [
    "aggregate_count_trips = grouped_by_data.count()\n",
    "aggregate_temperature = grouped_by_data.mean()"
   ]
  },
  {
   "cell_type": "markdown",
   "metadata": {},
   "source": [
    "### <font color='red'>5.4) Understand what the code below does. How do you understand the plots ? You can look up the following functions:</font>\n",
    "- fig, ax1 = plt.subplots()\n",
    "- ax2=ax1.twinx()\n",
    "- ax1.plot(), ax2.plot()\n",
    "- any other options to set the ticks labels, colors, titles ..."
   ]
  },
  {
   "cell_type": "code",
   "execution_count": 41,
   "metadata": {
    "collapsed": false
   },
   "outputs": [
    {
     "data": {
      "image/png": "[encoded data removed]",
      "text/plain": [
       "<matplotlib.figure.Figure at 0x10e77eb10>"
      ]
     },
     "metadata": {},
     "output_type": "display_data"
    }
   ],
   "source": [
    "sns.set_style('white')\n",
    "\n",
    "fig, ax1 = plt.subplots(figsize=(15,10))\n",
    "\n",
    "june_day = aggregate_count_trips.index\n",
    "\n",
    "number_trips = aggregate_count_trips.tripduration\n",
    "ax1.plot(june_day, number_trips, 'b')\n",
    "ax1.set_xlabel('Day in June')\n",
    "for ticklabel in ax1.get_yticklabels():\n",
    "    ticklabel.set_color('b')\n",
    "ax1.set_ylabel('Number of trips',color='b')\n",
    "\n",
    "ax2 = ax1.twinx()\n",
    "temperature = aggregate_temperature.TemperatureC\n",
    "ax2.plot(june_day, temperature, 'k--')\n",
    "for ticklabel in ax2.get_yticklabels():\n",
    "    ticklabel.set_color('k')\n",
    "ax2.set_ylabel('Temperature',color='k')\n",
    "plt.title('Number of trips and temperature per day in June', fontsize=17)\n",
    "plt.show()"
   ]
  },
  {
   "cell_type": "markdown",
   "metadata": {},
   "source": [
    "## 6) Trip distances and speeds <font color='blue'> </font>"
   ]
  },
  {
   "cell_type": "markdown",
   "metadata": {},
   "source": [
    "### <font color='red'>Import the haversine package, that computes the haversine distance from one coordinate to another</font>"
   ]
  },
  {
   "cell_type": "code",
   "execution_count": 43,
   "metadata": {
    "collapsed": false
   },
   "outputs": [
    {
     "name": "stdout",
     "output_type": "stream",
     "text": [
      "Help on function haversine in module haversine:\n",
      "\n",
      "haversine(point1, point2, miles=False)\n",
      "    Calculate the great-circle distance bewteen two points on the Earth surface.\n",
      "    \n",
      "    :input: two 2-tuples, containing the latitude and longitude of each point\n",
      "    in decimal degrees.\n",
      "    \n",
      "    Example: haversine((45.7597, 4.8422), (48.8567, 2.3508))\n",
      "    \n",
      "    :output: Returns the distance bewteen the two points.\n",
      "    The default unit is kilometers. Miles can be returned\n",
      "    if the ``miles`` parameter is set to True.\n",
      "\n"
     ]
    }
   ],
   "source": [
    "from haversine import haversine\n",
    "help(haversine)"
   ]
  },
  {
   "cell_type": "markdown",
   "metadata": {},
   "source": [
    "### <font color='red'>Understand how the <i>haversine</i> function from the package can be used to compute a distance by running the following blocks</font>"
   ]
  },
  {
   "cell_type": "code",
   "execution_count": 44,
   "metadata": {
    "collapsed": true
   },
   "outputs": [],
   "source": [
    "x = data.iloc[0]"
   ]
  },
  {
   "cell_type": "code",
   "execution_count": 45,
   "metadata": {
    "collapsed": false
   },
   "outputs": [
    {
     "name": "stdout",
     "output_type": "stream",
     "text": [
      "Traveled haversine distance for trip 0: 3.8 kilometers\n"
     ]
    }
   ],
   "source": [
    "print 'Traveled haversine distance for trip 0: {:.1f} kilometers'.format(\n",
    "    haversine((x['start station latitude'], x['start station longitude']),\n",
    "              (x['end station latitude'], x['end station longitude'])))"
   ]
  },
  {
   "cell_type": "markdown",
   "metadata": {},
   "source": [
    "### <font color='red'>6.1) Complete the following function so it returns, for a given observation, the haversine distance from a start station to the end station</font>"
   ]
  },
  {
   "cell_type": "code",
   "execution_count": 46,
   "metadata": {
    "collapsed": true
   },
   "outputs": [],
   "source": [
    "def distance_stations(x):\n",
    "    start_lat = x['start station latitude']\n",
    "    start_long = x['start station longitude']\n",
    "    end_lat = x['end station latitude']\n",
    "    end_long = x['end station longitude']\n",
    "    return haversine((start_lat, start_long), (end_lat, end_long))"
   ]
  },
  {
   "cell_type": "markdown",
   "metadata": {},
   "source": [
    "### <font color='red'>6.2) What does the following block do ? It may take a minute or two to run</font>"
   ]
  },
  {
   "cell_type": "code",
   "execution_count": 47,
   "metadata": {
    "collapsed": true
   },
   "outputs": [],
   "source": [
    "data['traveled_distance'] = data.apply(distance_stations, axis=1)"
   ]
  },
  {
   "cell_type": "markdown",
   "metadata": {},
   "source": [
    "### <font color='red'>6.3) Show <i>samples</i> of data, and see how the traveled distance has been added as a new feature in the dataset</font>"
   ]
  },
  {
   "cell_type": "code",
   "execution_count": 48,
   "metadata": {
    "collapsed": false
   },
   "outputs": [
    {
     "data": {
      "text/html": [
       "<div>\n",
       "<table border=\"1\" class=\"dataframe\">\n",
       "  <thead>\n",
       "    <tr style=\"text-align: right;\">\n",
       "      <th></th>\n",
       "      <th>tripduration</th>\n",
       "      <th>starttime</th>\n",
       "      <th>stoptime</th>\n",
       "      <th>start station id</th>\n",
       "      <th>start station name</th>\n",
       "      <th>start station latitude</th>\n",
       "      <th>start station longitude</th>\n",
       "      <th>end station id</th>\n",
       "      <th>end station name</th>\n",
       "      <th>end station latitude</th>\n",
       "      <th>...</th>\n",
       "      <th>Precipitationmm</th>\n",
       "      <th>Conditions</th>\n",
       "      <th>TemperatureC</th>\n",
       "      <th>start_day</th>\n",
       "      <th>is_weekend</th>\n",
       "      <th>start_moment</th>\n",
       "      <th>is_rainy</th>\n",
       "      <th>is_circle_trip</th>\n",
       "      <th>june_day</th>\n",
       "      <th>traveled_distance</th>\n",
       "    </tr>\n",
       "  </thead>\n",
       "  <tbody>\n",
       "    <tr>\n",
       "      <th>293756</th>\n",
       "      <td>1370</td>\n",
       "      <td>2015-06-11 07:59:00</td>\n",
       "      <td>2015-06-11 08:22:00</td>\n",
       "      <td>394</td>\n",
       "      <td>E 9 St &amp; Avenue C</td>\n",
       "      <td>40.725213</td>\n",
       "      <td>-73.977688</td>\n",
       "      <td>477</td>\n",
       "      <td>W 41 St &amp; 8 Ave</td>\n",
       "      <td>40.756405</td>\n",
       "      <td>...</td>\n",
       "      <td>0</td>\n",
       "      <td>Partly Cloudy</td>\n",
       "      <td>22.8</td>\n",
       "      <td>Thursday</td>\n",
       "      <td>False</td>\n",
       "      <td>morning</td>\n",
       "      <td>False</td>\n",
       "      <td>False</td>\n",
       "      <td>11</td>\n",
       "      <td>3.620861</td>\n",
       "    </tr>\n",
       "    <tr>\n",
       "      <th>563072</th>\n",
       "      <td>1033</td>\n",
       "      <td>2015-06-19 12:35:00</td>\n",
       "      <td>2015-06-19 12:52:00</td>\n",
       "      <td>465</td>\n",
       "      <td>Broadway &amp; W 41 St</td>\n",
       "      <td>40.755136</td>\n",
       "      <td>-73.986580</td>\n",
       "      <td>388</td>\n",
       "      <td>W 26 St &amp; 10 Ave</td>\n",
       "      <td>40.749718</td>\n",
       "      <td>...</td>\n",
       "      <td>0</td>\n",
       "      <td>Clear</td>\n",
       "      <td>22.8</td>\n",
       "      <td>Friday</td>\n",
       "      <td>False</td>\n",
       "      <td>morning</td>\n",
       "      <td>False</td>\n",
       "      <td>False</td>\n",
       "      <td>19</td>\n",
       "      <td>1.504773</td>\n",
       "    </tr>\n",
       "  </tbody>\n",
       "</table>\n",
       "<p>2 rows × 27 columns</p>\n",
       "</div>"
      ],
      "text/plain": [
       "        tripduration           starttime            stoptime  \\\n",
       "293756          1370 2015-06-11 07:59:00 2015-06-11 08:22:00   \n",
       "563072          1033 2015-06-19 12:35:00 2015-06-19 12:52:00   \n",
       "\n",
       "        start station id  start station name  start station latitude  \\\n",
       "293756               394   E 9 St & Avenue C               40.725213   \n",
       "563072               465  Broadway & W 41 St               40.755136   \n",
       "\n",
       "        start station longitude  end station id  end station name  \\\n",
       "293756               -73.977688             477   W 41 St & 8 Ave   \n",
       "563072               -73.986580             388  W 26 St & 10 Ave   \n",
       "\n",
       "        end station latitude        ...          Precipitationmm  \\\n",
       "293756             40.756405        ...                        0   \n",
       "563072             40.749718        ...                        0   \n",
       "\n",
       "           Conditions TemperatureC  start_day  is_weekend  start_moment  \\\n",
       "293756  Partly Cloudy         22.8   Thursday       False       morning   \n",
       "563072          Clear         22.8     Friday       False       morning   \n",
       "\n",
       "        is_rainy  is_circle_trip june_day  traveled_distance  \n",
       "293756     False           False       11           3.620861  \n",
       "563072     False           False       19           1.504773  \n",
       "\n",
       "[2 rows x 27 columns]"
      ]
     },
     "execution_count": 48,
     "metadata": {},
     "output_type": "execute_result"
    }
   ],
   "source": [
    "data.sample(2)"
   ]
  },
  {
   "cell_type": "markdown",
   "metadata": {},
   "source": [
    "### <font color='red'>6.4) Compute the average speed (in km/h) by dividing two dataframe columns</font>"
   ]
  },
  {
   "cell_type": "code",
   "execution_count": 49,
   "metadata": {
    "collapsed": false
   },
   "outputs": [],
   "source": [
    "data['average_speed'] = 3600*data.traveled_distance/data.tripduration"
   ]
  },
  {
   "cell_type": "markdown",
   "metadata": {},
   "source": [
    "### <font color='red'>Run the following block to compute the mean speed on non-loopy trips </font>"
   ]
  },
  {
   "cell_type": "code",
   "execution_count": 50,
   "metadata": {
    "collapsed": true
   },
   "outputs": [],
   "source": [
    "mean_speed = mean(data['average_speed'][data['average_speed'] != 0])"
   ]
  },
  {
   "cell_type": "code",
   "execution_count": 56,
   "metadata": {
    "collapsed": false
   },
   "outputs": [
    {
     "name": "stdout",
     "output_type": "stream",
     "text": [
      "8.68636035154\n"
     ]
    }
   ],
   "source": [
    "print mean_speed"
   ]
  },
  {
   "cell_type": "markdown",
   "metadata": {},
   "source": [
    "### <font color='red'>6.5) Keep only trips for which the speed is under 50 km/h </font>"
   ]
  },
  {
   "cell_type": "code",
   "execution_count": 51,
   "metadata": {
    "collapsed": false
   },
   "outputs": [],
   "source": [
    "data = data[data['average_speed'] < 50]"
   ]
  },
  {
   "cell_type": "markdown",
   "metadata": {},
   "source": [
    "### <font color='red'>What does the following block do ?</font>"
   ]
  },
  {
   "cell_type": "code",
   "execution_count": 54,
   "metadata": {
    "collapsed": false
   },
   "outputs": [],
   "source": [
    "data.loc[data['average_speed']==0,'average_speed'] = mean_speed"
   ]
  },
  {
   "cell_type": "markdown",
   "metadata": {},
   "source": [
    "### <font color='red'>6.7) Using <i>seaborn.distplot</i>, plot the distribution of speeds</font>"
   ]
  },
  {
   "cell_type": "code",
   "execution_count": 55,
   "metadata": {
    "collapsed": false
   },
   "outputs": [
    {
     "data": {
      "text/plain": [
       "<matplotlib.text.Text at 0x10e380790>"
      ]
     },
     "execution_count": 55,
     "metadata": {},
     "output_type": "execute_result"
    },
    {
     "data": {
      "image/png": "[encoded data removed]",
      "text/plain": [
       "<matplotlib.figure.Figure at 0x10e91c450>"
      ]
     },
     "metadata": {},
     "output_type": "display_data"
    }
   ],
   "source": [
    "plt.figure(figsize=(20,10))\n",
    "sns.distplot(data['average_speed'])\n",
    "plt.xlabel('Average speed in km/h',fontsize=15)\n",
    "plt.ylabel('Proportion of trips',fontsize=15)\n",
    "plt.title('Average speed for bike riders',fontsize=15)"
   ]
  },
  {
   "cell_type": "markdown",
   "metadata": {},
   "source": [
    "### <font color='red'>6.8) Subsidiary question : plot the average speed vs. the total distance. What do you observe ? You can use the following function: </font>\n",
    "- seaborn.regplot()\n",
    "- data_sample = data.sample(1000) so as not to overload the graph"
   ]
  },
  {
   "cell_type": "code",
   "execution_count": 57,
   "metadata": {
    "collapsed": false
   },
   "outputs": [
    {
     "data": {
      "image/png": "[encoded data removed]",
      "text/plain": [
       "<matplotlib.figure.Figure at 0x10f9c5f50>"
      ]
     },
     "metadata": {},
     "output_type": "display_data"
    }
   ],
   "source": [
    "sample_data = data.sample(10000)\n",
    "plt.figure(figsize=(10,10))\n",
    "sns.regplot(x=\"traveled_distance\", y=\"average_speed\", data = sample_data);\n",
    "plt.xlabel('Traveled distance in kilometers')\n",
    "plt.ylabel('Average speed')\n",
    "plt.title('Average speed vs. total distance', fontsize = 17)\n",
    "plt.show()"
   ]
  },
  {
   "cell_type": "markdown",
   "metadata": {},
   "source": [
    "# Save dataset to csv file"
   ]
  },
  {
   "cell_type": "code",
   "execution_count": 218,
   "metadata": {
    "collapsed": true
   },
   "outputs": [],
   "source": [
    "data.to_csv('my_data_after_feature_engineering.csv', index=False)"
   ]
  }
 ],
 "metadata": {
  "kernelspec": {
   "display_name": "Python 2.7",
   "language": "python",
   "name": "python27"
  },
  "language_info": {
   "codemirror_mode": {
    "name": "ipython",
    "version": 2
   },
   "file_extension": ".py",
   "mimetype": "text/x-python",
   "name": "python",
   "nbconvert_exporter": "python",
   "pygments_lexer": "ipython2",
   "version": "2.7.11"
  }
 },
 "nbformat": 4,
 "nbformat_minor": 0
}
